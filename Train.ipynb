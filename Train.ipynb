{
 "metadata": {
  "language_info": {
   "codemirror_mode": {
    "name": "ipython",
    "version": 3
   },
   "file_extension": ".py",
   "mimetype": "text/x-python",
   "name": "python",
   "nbconvert_exporter": "python",
   "pygments_lexer": "ipython3",
   "version": "3.8.5-final"
  },
  "orig_nbformat": 2,
  "kernelspec": {
   "name": "python_defaultSpec_1608830653311",
   "display_name": "Python 3.8.5 64-bit"
  }
 },
 "nbformat": 4,
 "nbformat_minor": 2,
 "cells": [
  {
   "cell_type": "code",
   "execution_count": 1,
   "metadata": {},
   "outputs": [],
   "source": [
    "from LassoLayer import LassoLayer\n",
    "import pandas as pd"
   ]
  },
  {
   "cell_type": "code",
   "execution_count": 2,
   "metadata": {},
   "outputs": [
    {
     "output_type": "execute_result",
     "data": {
      "text/plain": "(891, 18)"
     },
     "metadata": {},
     "execution_count": 2
    }
   ],
   "source": [
    "df = pd.read_pickle('titanic.pkl')\n",
    "input_df = df.drop('Survived', axis=1)\n",
    "output_df = df['Survived']\n",
    "input_df.shape"
   ]
  },
  {
   "cell_type": "code",
   "execution_count": 3,
   "metadata": {
    "tags": []
   },
   "outputs": [
    {
     "output_type": "execute_result",
     "data": {
      "text/plain": "<tensorflow.python.keras.callbacks.History at 0x793f89652640>"
     },
     "metadata": {},
     "execution_count": 3
    }
   ],
   "source": [
    "# basic model from https://www.kaggle.com/vincentlugat/titanic-neural-networks-keras-81-8\n",
    "# with the lasso input layer added to illustrate the concept\n",
    "\n",
    "# all I did was add the Lasso Layer for illustration purposes\n",
    "from keras.layers import Input, Dense, LeakyReLU, Layer, Dropout\n",
    "from keras.models import Model\n",
    "import keras.backend as K\n",
    "from keras import regularizers\n",
    "from keras.losses import categorical_crossentropy, binary_crossentropy, hinge, squared_hinge\n",
    "from keras import backend as K\n",
    "from keras.layers import Layer\n",
    "from keras.optimizers import Adam\n",
    "import tensorflow as tf\n",
    "\n",
    "inputs = Input(shape=(input_df.shape[1],))\n",
    "lasso = LassoLayer(input_df.shape[1], kernel_regularizer=tf.keras.regularizers.l1(0.01))\n",
    "lasso_layer = lasso(input)\n",
    "dense1 = Dense(13, activation='relu')(lasso)\n",
    "dropout = Dropout(0.2)(dense1)\n",
    "dense2 = Dense(8, activation='relu')(dropout)\n",
    "# this was added in addition to the original model\n",
    "# for the purpose of the embedding\n",
    "# the name is specified so we can build an intermediate model to\n",
    "# extract the output\n",
    "dense3 = Dense(2, activation='relu', name='embedding')(dense2)\n",
    "output = Dense(1, activation='sigmoid')(dense3)\n",
    "model = Model(inputs=inputs, outputs=output)\n",
    "model.compile(loss='binary_crossentropy', optimizer = 'adam', metrics = ['accuracy'])\n",
    "model.fit(input_df, output_df,epochs = 20, batch_size = 10, verbose=0)"
   ]
  },
  {
   "cell_type": "code",
   "execution_count": 4,
   "metadata": {},
   "outputs": [],
   "source": [
    "intermediate_layer_model = Model(inputs=model.input, outputs=model.get_layer('embedding').output)\n",
    "embedding = intermediate_layer_model.predict(input_df)"
   ]
  },
  {
   "cell_type": "code",
   "execution_count": 6,
   "metadata": {
    "tags": []
   },
   "outputs": [
    {
     "output_type": "error",
     "ename": "AttributeError",
     "evalue": "'Tensor' object has no attribute 'get_weights'",
     "traceback": [
      "\u001b[0;31m---------------------------------------------------------------------------\u001b[0m",
      "\u001b[0;31mAttributeError\u001b[0m                            Traceback (most recent call last)",
      "\u001b[0;32m<ipython-input-6-0a36c516a648>\u001b[0m in \u001b[0;36m<module>\u001b[0;34m\u001b[0m\n\u001b[0;32m----> 1\u001b[0;31m \u001b[0mlasso\u001b[0m\u001b[0;34m.\u001b[0m\u001b[0mget_weights\u001b[0m\u001b[0;34m(\u001b[0m\u001b[0;34m)\u001b[0m\u001b[0;34m\u001b[0m\u001b[0;34m\u001b[0m\u001b[0m\n\u001b[0m",
      "\u001b[0;31mAttributeError\u001b[0m: 'Tensor' object has no attribute 'get_weights'"
     ]
    }
   ],
   "source": [
    "lasso.get_weights()"
   ]
  },
  {
   "cell_type": "code",
   "execution_count": 21,
   "metadata": {
    "tags": []
   },
   "outputs": [
    {
     "output_type": "execute_result",
     "data": {
      "text/plain": "(891, 2)"
     },
     "metadata": {},
     "execution_count": 21
    }
   ],
   "source": [
    "import matplotlib.pl"
   ]
  },
  {
   "cell_type": "code",
   "execution_count": null,
   "metadata": {},
   "outputs": [],
   "source": []
  }
 ]
}