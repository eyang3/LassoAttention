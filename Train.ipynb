{
 "cells": [
  {
   "cell_type": "code",
   "execution_count": 215,
   "metadata": {},
   "outputs": [],
   "source": [
    "from LassoLayer import LassoLayer\n",
    "import pandas as pd"
   ]
  },
  {
   "cell_type": "code",
   "execution_count": 227,
   "metadata": {},
   "outputs": [
    {
     "data": {
      "text/plain": [
       "(891, 18)"
      ]
     },
     "execution_count": 227,
     "metadata": {},
     "output_type": "execute_result"
    }
   ],
   "source": [
    "df = pd.read_pickle('titanic.pkl')\n",
    "df2 = pd.read_csv('train.csv')\n",
    "input_df = df.drop('Survived', axis=1)\n",
    "output_df = df['Survived']\n",
    "input_df.shape\n",
    "input_df.columns\n",
    "#input_df['Age'] =  df2['Age']\n",
    "input_df.shape"
   ]
  },
  {
   "cell_type": "code",
   "execution_count": 233,
   "metadata": {},
   "outputs": [],
   "source": [
    "input_df['Age'] = df2[['Age']].fillna(df2['Age'].median())"
   ]
  },
  {
   "cell_type": "code",
   "execution_count": 251,
   "metadata": {
    "tags": []
   },
   "outputs": [
    {
     "name": "stdout",
     "output_type": "stream",
     "text": [
      "Epoch 1/50\n",
      "90/90 [==============================] - 0s 1ms/step - loss: 1.7767 - accuracy: 0.5892\n",
      "Epoch 2/50\n",
      "90/90 [==============================] - 0s 1ms/step - loss: 0.7306 - accuracy: 0.5814\n",
      "Epoch 3/50\n",
      "90/90 [==============================] - 0s 1ms/step - loss: 0.6834 - accuracy: 0.6083\n",
      "Epoch 4/50\n",
      "90/90 [==============================] - 0s 1ms/step - loss: 0.6790 - accuracy: 0.6083\n",
      "Epoch 5/50\n",
      "90/90 [==============================] - 0s 1ms/step - loss: 0.6746 - accuracy: 0.6162\n",
      "Epoch 6/50\n",
      "90/90 [==============================] - 0s 1ms/step - loss: 0.6685 - accuracy: 0.6139\n",
      "Epoch 7/50\n",
      "90/90 [==============================] - 0s 1ms/step - loss: 0.6749 - accuracy: 0.6162\n",
      "Epoch 8/50\n",
      "90/90 [==============================] - 0s 1ms/step - loss: 0.6640 - accuracy: 0.6162\n",
      "Epoch 9/50\n",
      "90/90 [==============================] - 0s 1ms/step - loss: 0.6301 - accuracy: 0.6296\n",
      "Epoch 10/50\n",
      "90/90 [==============================] - 0s 1ms/step - loss: 0.6043 - accuracy: 0.7239\n",
      "Epoch 11/50\n",
      "90/90 [==============================] - 0s 1ms/step - loss: 0.5876 - accuracy: 0.7632\n",
      "Epoch 12/50\n",
      "90/90 [==============================] - 0s 1ms/step - loss: 0.5767 - accuracy: 0.7755\n",
      "Epoch 13/50\n",
      "90/90 [==============================] - 0s 1ms/step - loss: 0.5706 - accuracy: 0.7710\n",
      "Epoch 14/50\n",
      "90/90 [==============================] - 0s 1ms/step - loss: 0.5763 - accuracy: 0.7755\n",
      "Epoch 15/50\n",
      "90/90 [==============================] - 0s 1ms/step - loss: 0.5624 - accuracy: 0.7778\n",
      "Epoch 16/50\n",
      "90/90 [==============================] - 0s 1ms/step - loss: 0.5727 - accuracy: 0.7957\n",
      "Epoch 17/50\n",
      "90/90 [==============================] - 0s 1ms/step - loss: 0.5793 - accuracy: 0.7901\n",
      "Epoch 18/50\n",
      "90/90 [==============================] - 0s 1ms/step - loss: 0.5616 - accuracy: 0.7946\n",
      "Epoch 19/50\n",
      "90/90 [==============================] - 0s 1ms/step - loss: 0.5724 - accuracy: 0.8058\n",
      "Epoch 20/50\n",
      "90/90 [==============================] - 0s 1ms/step - loss: 0.5802 - accuracy: 0.8215\n",
      "Epoch 21/50\n",
      "90/90 [==============================] - 0s 1ms/step - loss: 0.5561 - accuracy: 0.8238\n",
      "Epoch 22/50\n",
      "90/90 [==============================] - 0s 1ms/step - loss: 0.5734 - accuracy: 0.8215\n",
      "Epoch 23/50\n",
      "90/90 [==============================] - 0s 1ms/step - loss: 0.5522 - accuracy: 0.8260\n",
      "Epoch 24/50\n",
      "90/90 [==============================] - 0s 1ms/step - loss: 0.5652 - accuracy: 0.8081\n",
      "Epoch 25/50\n",
      "90/90 [==============================] - 0s 1ms/step - loss: 0.5670 - accuracy: 0.8126\n",
      "Epoch 26/50\n",
      "90/90 [==============================] - 0s 1ms/step - loss: 0.5721 - accuracy: 0.8182\n",
      "Epoch 27/50\n",
      "90/90 [==============================] - 0s 1ms/step - loss: 0.5638 - accuracy: 0.8193\n",
      "Epoch 28/50\n",
      "90/90 [==============================] - 0s 1ms/step - loss: 0.5615 - accuracy: 0.8238\n",
      "Epoch 29/50\n",
      "90/90 [==============================] - 0s 1ms/step - loss: 0.5531 - accuracy: 0.8283\n",
      "Epoch 30/50\n",
      "90/90 [==============================] - 0s 1ms/step - loss: 0.5742 - accuracy: 0.8238\n",
      "Epoch 31/50\n",
      "90/90 [==============================] - 0s 1ms/step - loss: 0.5498 - accuracy: 0.8283\n",
      "Epoch 32/50\n",
      "90/90 [==============================] - 0s 1ms/step - loss: 0.5570 - accuracy: 0.8227\n",
      "Epoch 33/50\n",
      "90/90 [==============================] - 0s 1ms/step - loss: 0.5507 - accuracy: 0.8249\n",
      "Epoch 34/50\n",
      "90/90 [==============================] - 0s 1ms/step - loss: 0.5504 - accuracy: 0.8215\n",
      "Epoch 35/50\n",
      "90/90 [==============================] - 0s 1ms/step - loss: 0.5430 - accuracy: 0.8272\n",
      "Epoch 36/50\n",
      "90/90 [==============================] - 0s 1ms/step - loss: 0.5904 - accuracy: 0.8227\n",
      "Epoch 37/50\n",
      "90/90 [==============================] - 0s 1ms/step - loss: 0.5499 - accuracy: 0.8260\n",
      "Epoch 38/50\n",
      "90/90 [==============================] - 0s 1ms/step - loss: 0.5676 - accuracy: 0.8260\n",
      "Epoch 39/50\n",
      "90/90 [==============================] - 0s 1ms/step - loss: 0.5378 - accuracy: 0.8260\n",
      "Epoch 40/50\n",
      "90/90 [==============================] - 0s 1ms/step - loss: 0.5396 - accuracy: 0.8283\n",
      "Epoch 41/50\n",
      "90/90 [==============================] - 0s 1ms/step - loss: 0.7099 - accuracy: 0.7789\n",
      "Epoch 42/50\n",
      "90/90 [==============================] - 0s 1ms/step - loss: 0.5299 - accuracy: 0.8182\n",
      "Epoch 43/50\n",
      "90/90 [==============================] - 0s 1ms/step - loss: 0.5409 - accuracy: 0.8316\n",
      "Epoch 44/50\n",
      "90/90 [==============================] - 0s 1ms/step - loss: 0.5378 - accuracy: 0.8260\n",
      "Epoch 45/50\n",
      "90/90 [==============================] - 0s 1ms/step - loss: 0.5419 - accuracy: 0.8260\n",
      "Epoch 46/50\n",
      "90/90 [==============================] - 0s 1ms/step - loss: 0.5271 - accuracy: 0.8193\n",
      "Epoch 47/50\n",
      "90/90 [==============================] - 0s 1ms/step - loss: 0.5378 - accuracy: 0.8305\n",
      "Epoch 48/50\n",
      "90/90 [==============================] - 0s 1ms/step - loss: 0.5492 - accuracy: 0.8238\n",
      "Epoch 49/50\n",
      "90/90 [==============================] - 0s 1ms/step - loss: 0.5451 - accuracy: 0.8249\n",
      "Epoch 50/50\n",
      "90/90 [==============================] - 0s 1ms/step - loss: 0.5586 - accuracy: 0.8227\n"
     ]
    },
    {
     "data": {
      "text/plain": [
       "<tensorflow.python.keras.callbacks.History at 0x7e33e54a95e0>"
      ]
     },
     "execution_count": 251,
     "metadata": {},
     "output_type": "execute_result"
    }
   ],
   "source": [
    "# basic model from https://www.kaggle.com/vincentlugat/titanic-neural-networks-keras-81-8\n",
    "# with the lasso input layer added to illustrate the concept\n",
    "\n",
    "# all I did was add the Lasso Layer for illustration purposes\n",
    "from keras.layers import Input, Dense, LeakyReLU, Layer, Dropout\n",
    "from keras.models import Model\n",
    "import keras.backend as K\n",
    "from keras import regularizers\n",
    "from keras.losses import categorical_crossentropy, binary_crossentropy, hinge, squared_hinge\n",
    "from keras import backend as K\n",
    "from keras.layers import Layer\n",
    "from keras.optimizers import Adam\n",
    "import tensorflow as tf\n",
    "\n",
    "inputs = Input(shape=(input_df.shape[1],))\n",
    "lasso = LassoLayer(input_df.shape[1], kernel_regularizer=tf.keras.regularizers.l1(0.35))\n",
    "lasso_layer = lasso(inputs)\n",
    "dense1 = Dense(13, activation='linear')(lasso_layer)\n",
    "dropout = Dropout(0.2)(dense1)\n",
    "dense3 = Dense(2, activation='linear', name='embedding')(dropout)\n",
    "output = Dense(1, activation='linear')(dense3)\n",
    "model = Model(inputs=inputs, outputs=output)\n",
    "model.compile(loss='binary_crossentropy', optimizer = 'adam', metrics = ['accuracy'])\n",
    "model.fit(input_df, output_df,epochs = 50, batch_size = 10)"
   ]
  },
  {
   "cell_type": "code",
   "execution_count": 252,
   "metadata": {
    "tags": []
   },
   "outputs": [
    {
     "data": {
      "text/html": [
       "<div>\n",
       "<style scoped>\n",
       "    .dataframe tbody tr th:only-of-type {\n",
       "        vertical-align: middle;\n",
       "    }\n",
       "\n",
       "    .dataframe tbody tr th {\n",
       "        vertical-align: top;\n",
       "    }\n",
       "\n",
       "    .dataframe thead th {\n",
       "        text-align: right;\n",
       "    }\n",
       "</style>\n",
       "<table border=\"1\" class=\"dataframe\">\n",
       "  <thead>\n",
       "    <tr style=\"text-align: right;\">\n",
       "      <th></th>\n",
       "      <th>column</th>\n",
       "      <th>weights</th>\n",
       "    </tr>\n",
       "  </thead>\n",
       "  <tbody>\n",
       "    <tr>\n",
       "      <th>0</th>\n",
       "      <td>Title_Mr</td>\n",
       "      <td>0.061775</td>\n",
       "    </tr>\n",
       "    <tr>\n",
       "      <th>1</th>\n",
       "      <td>Family_Survival_0.0</td>\n",
       "      <td>0.030205</td>\n",
       "    </tr>\n",
       "  </tbody>\n",
       "</table>\n",
       "</div>"
      ],
      "text/plain": [
       "                column   weights\n",
       "0             Title_Mr  0.061775\n",
       "1  Family_Survival_0.0  0.030205"
      ]
     },
     "execution_count": 252,
     "metadata": {},
     "output_type": "execute_result"
    },
    {
     "data": {
      "image/png": "[encoded data removed]",
      "text/plain": [
       "<Figure size 432x288 with 1 Axes>"
      ]
     },
     "metadata": {
      "needs_background": "light"
     },
     "output_type": "display_data"
    }
   ],
   "source": [
    "import matplotlib.pyplot as plt\n",
    "import numpy as np\n",
    "weights = lasso.get_weights()\n",
    "plt.plot(np.abs(weights[0][0]))\n",
    "plt.title('L1 Feature Weights')\n",
    "\n",
    "colname = input_df.columns[np.abs(weights[0][0]) > 0.01]\n",
    "colweights = np.abs(weights[0][0][np.abs(weights[0][0]) > 0.01])\n",
    "\n",
    "features = pd.DataFrame({'column': colname, 'weights': colweights})\n",
    "features"
   ]
  },
  {
   "cell_type": "code",
   "execution_count": 249,
   "metadata": {},
   "outputs": [
    {
     "data": {
      "text/plain": [
       "<AxesSubplot:xlabel='x', ylabel='y'>"
      ]
     },
     "execution_count": 249,
     "metadata": {},
     "output_type": "execute_result"
    },
    {
     "data": {
      "image/png": "[encoded data removed]",
      "text/plain": [
       "<Figure size 432x288 with 1 Axes>"
      ]
     },
     "metadata": {
      "needs_background": "light"
     },
     "output_type": "display_data"
    }
   ],
   "source": [
    "import seaborn as sns\n",
    "intermediate_layer_model = Model(inputs=model.input,\n",
    "                                       outputs=model.get_layer('embedding').output)\n",
    "embedding = intermediate_layer_model.predict(input_df)\n",
    "color = {0: 'Red', 1: 'Green'}\n",
    "\n",
    "choices = output_df.apply(lambda x: color[x])\n",
    "plotting_df = pd.DataFrame({'x': embedding[:,0], 'y': embedding[:,1]})\n",
    "\n",
    "plotting_df\n",
    "plotting_df['Survived'] = output_df.apply(lambda x: 'Died' if x == 0 else 'Survived')\n",
    "plotting_df['Title_Mr'] = input_df['Title_Mr'].apply(lambda x: 'Mr' if x == 1 else 'Something Else')\n",
    "plotting_df['Pclass_1'] = input_df['Pclass_1']\n",
    "plotting_df['Sex'] = input_df['Sex'].apply(lambda x: 'Female' if x == 0 else 'Male')\n",
    "\n",
    "sns.scatterplot(data = plotting_df, x='x', y='y', hue='Title_Mr')\n"
   ]
  },
  {
   "cell_type": "code",
   "execution_count": 212,
   "metadata": {},
   "outputs": [
    {
     "data": {
      "text/plain": [
       "<AxesSubplot:xlabel='x', ylabel='y'>"
      ]
     },
     "execution_count": 212,
     "metadata": {},
     "output_type": "execute_result"
    },
    {
     "data": {
      "image/png": "[encoded data removed]",
      "text/plain": [
       "<Figure size 432x288 with 1 Axes>"
      ]
     },
     "metadata": {
      "needs_background": "light"
     },
     "output_type": "display_data"
    }
   ],
   "source": [
    "sns.scatterplot(data = plotting_df, x='x', y='y', hue='Survived')\n"
   ]
  },
  {
   "cell_type": "code",
   "execution_count": null,
   "metadata": {},
   "outputs": [],
   "source": []
  }
 ],
 "metadata": {
  "kernelspec": {
   "display_name": "Python 3",
   "language": "python",
   "name": "python3"
  },
  "language_info": {
   "codemirror_mode": {
    "name": "ipython",
    "version": 3
   },
   "file_extension": ".py",
   "mimetype": "text/x-python",
   "name": "python",
   "nbconvert_exporter": "python",
   "pygments_lexer": "ipython3",
   "version": "3.8.5"
  }
 },
 "nbformat": 4,
 "nbformat_minor": 4
}
