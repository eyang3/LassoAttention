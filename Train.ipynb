{
 "metadata": {
  "language_info": {
   "codemirror_mode": {
    "name": "ipython",
    "version": 3
   },
   "file_extension": ".py",
   "mimetype": "text/x-python",
   "name": "python",
   "nbconvert_exporter": "python",
   "pygments_lexer": "ipython3",
   "version": "3.8.5-final"
  },
  "orig_nbformat": 2,
  "kernelspec": {
   "name": "python_defaultSpec_1608827547445",
   "display_name": "Python 3.8.5 64-bit"
  }
 },
 "nbformat": 4,
 "nbformat_minor": 2,
 "cells": [
  {
   "cell_type": "code",
   "execution_count": 1,
   "metadata": {},
   "outputs": [],
   "source": [
    "from LassoLayer import LassoLayer\n",
    "import pandas as pd"
   ]
  },
  {
   "cell_type": "code",
   "execution_count": 2,
   "metadata": {},
   "outputs": [
    {
     "output_type": "execute_result",
     "data": {
      "text/plain": "(891, 18)"
     },
     "metadata": {},
     "execution_count": 2
    }
   ],
   "source": [
    "df = pd.read_pickle('titanic.pkl')\n",
    "input_df = df.drop('Survived', axis=1)\n",
    "output_df = df['Survived']\n",
    "input_df.shape"
   ]
  },
  {
   "cell_type": "code",
   "execution_count": 17,
   "metadata": {
    "tags": []
   },
   "outputs": [
    {
     "output_type": "stream",
     "name": "stdout",
     "text": "Epoch 1/20\n90/90 [==============================] - 1s 13ms/step - loss: 0.6857 - accuracy: 0.6162\nEpoch 2/20\n90/90 [==============================] - 1s 8ms/step - loss: 0.6581 - accuracy: 0.6162\nEpoch 3/20\n90/90 [==============================] - 1s 6ms/step - loss: 0.6087 - accuracy: 0.6162\nEpoch 4/20\n90/90 [==============================] - 0s 5ms/step - loss: 0.5667 - accuracy: 0.6162\nEpoch 5/20\n90/90 [==============================] - 0s 4ms/step - loss: 0.5590 - accuracy: 0.6835\nEpoch 6/20\n90/90 [==============================] - 0s 5ms/step - loss: 0.5486 - accuracy: 0.7744\nEpoch 7/20\n90/90 [==============================] - 0s 4ms/step - loss: 0.5456 - accuracy: 0.7868\nEpoch 8/20\n90/90 [==============================] - 0s 4ms/step - loss: 0.5419 - accuracy: 0.7845\nEpoch 9/20\n90/90 [==============================] - 1s 8ms/step - loss: 0.5384 - accuracy: 0.7901\nEpoch 10/20\n90/90 [==============================] - 0s 4ms/step - loss: 0.5367 - accuracy: 0.7868\nEpoch 11/20\n90/90 [==============================] - 0s 3ms/step - loss: 0.5338 - accuracy: 0.7823\nEpoch 12/20\n90/90 [==============================] - 0s 3ms/step - loss: 0.5222 - accuracy: 0.7946\nEpoch 13/20\n90/90 [==============================] - 0s 4ms/step - loss: 0.5094 - accuracy: 0.8249\nEpoch 14/20\n90/90 [==============================] - 0s 3ms/step - loss: 0.4976 - accuracy: 0.8182\nEpoch 15/20\n90/90 [==============================] - 0s 3ms/step - loss: 0.4917 - accuracy: 0.8260\nEpoch 16/20\n90/90 [==============================] - 0s 4ms/step - loss: 0.4911 - accuracy: 0.8193\nEpoch 17/20\n90/90 [==============================] - 0s 4ms/step - loss: 0.4901 - accuracy: 0.8249\nEpoch 18/20\n90/90 [==============================] - 0s 3ms/step - loss: 0.4818 - accuracy: 0.8305\nEpoch 19/20\n90/90 [==============================] - 1s 8ms/step - loss: 0.4838 - accuracy: 0.8283\nEpoch 20/20\n90/90 [==============================] - 0s 5ms/step - loss: 0.4781 - accuracy: 0.8350\n"
    },
    {
     "output_type": "execute_result",
     "data": {
      "text/plain": "<tensorflow.python.keras.callbacks.History at 0x7ce66689e0d0>"
     },
     "metadata": {},
     "execution_count": 17
    }
   ],
   "source": [
    "# basic model from https://www.kaggle.com/vincentlugat/titanic-neural-networks-keras-81-8\n",
    "# with the lasso input layer added to illustrate the concept\n",
    "\n",
    "# all I did was add the Lasso Layer for illustration purposes\n",
    "from keras.layers import Input, Dense, LeakyReLU, Layer, Dropout\n",
    "from keras.models import Model\n",
    "import keras.backend as K\n",
    "from keras import regularizers\n",
    "from keras.losses import categorical_crossentropy, binary_crossentropy, hinge, squared_hinge\n",
    "from keras import backend as K\n",
    "from keras.layers import Layer\n",
    "from keras.optimizers import Adam\n",
    "import tensorflow as tf\n",
    "\n",
    "inputs = Input(shape=(input_df.shape[1],))\n",
    "lasso = LassoLayer(input_df.shape[1], kernel_regularizer=tf.keras.regularizers.l1(0.01))(inputs)\n",
    "dense1 = Dense(13, activation='relu')(lasso)\n",
    "dropout = Dropout(0.2)(dense1)\n",
    "dense2 = Dense(8, activation='relu')(dropout)\n",
    "# this was added in addition to the original model\n",
    "# for the purpose of the embedding\n",
    "# the name is specified so we can build an intermediate model to\n",
    "# extract the output\n",
    "dense3 = Dense(2, activation='relu', name='embedding')(dense2)\n",
    "output = Dense(1, activation='sigmoid')(dense3)\n",
    "model = Model(inputs=inputs, outputs=output)\n",
    "model.compile(loss='binary_crossentropy', optimizer = 'adam', metrics = ['accuracy'])\n",
    "model.fit(input_df, output_df,epochs = 20, batch_size = 10)"
   ]
  },
  {
   "cell_type": "code",
   "execution_count": 19,
   "metadata": {},
   "outputs": [],
   "source": [
    "intermediate_layer_model = Model(inputs=model.input, outputs=model.get_layer('embedding').output)\n",
    "embedding = intermediate_layer_model.predict(input_df)"
   ]
  },
  {
   "cell_type": "code",
   "execution_count": 20,
   "metadata": {
    "tags": []
   },
   "outputs": [],
   "source": []
  },
  {
   "cell_type": "code",
   "execution_count": 21,
   "metadata": {
    "tags": []
   },
   "outputs": [
    {
     "output_type": "execute_result",
     "data": {
      "text/plain": "(891, 2)"
     },
     "metadata": {},
     "execution_count": 21
    }
   ],
   "source": [
    "import matplotlib.pl"
   ]
  },
  {
   "cell_type": "code",
   "execution_count": null,
   "metadata": {},
   "outputs": [],
   "source": []
  }
 ]
}